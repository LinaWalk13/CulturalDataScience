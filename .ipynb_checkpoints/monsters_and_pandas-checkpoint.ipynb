{
 "cells": [
  {
   "cell_type": "code",
   "execution_count": 1,
   "id": "443cb334-0d59-4aac-a261-8f1433e161b1",
   "metadata": {},
   "outputs": [
    {
     "name": "stdout",
     "output_type": "stream",
     "text": [
      "Collecting lxml\n",
      "  Downloading lxml-5.3.0-cp310-cp310-manylinux_2_28_x86_64.whl.metadata (3.8 kB)\n",
      "Downloading lxml-5.3.0-cp310-cp310-manylinux_2_28_x86_64.whl (5.0 MB)\n",
      "\u001b[2K   \u001b[90m━━━━━━━━━━━━━━━━━━━━━━━━━━━━━━━━━━━━━━━━\u001b[0m \u001b[32m5.0/5.0 MB\u001b[0m \u001b[31m26.4 MB/s\u001b[0m eta \u001b[36m0:00:00\u001b[0m00:01\u001b[0m\n",
      "\u001b[?25hInstalling collected packages: lxml\n",
      "Successfully installed lxml-5.3.0\n",
      "Note: you may need to restart the kernel to use updated packages.\n"
     ]
    }
   ],
   "source": [
    "# to scrape data from wikipedia, we need install the package called lxml\n",
    "# we can do that here from our notebook or, if we think we will use it often, we could modify our \"install_packages\"\n",
    "# shell script to install it automatically each time we start a job in UCloud\n",
    "%pip install lxml\n",
    "\n",
    "# import pandas so we can put data in a nice dataframe\n",
    "# we'll abbreviate pandas as pd, because that's what everybody does\n",
    "import pandas as pd"
   ]
  },
  {
   "cell_type": "markdown",
   "id": "bb4de222-44e1-4518-bd74-4b76682c2633",
   "metadata": {},
   "source": [
    "## Scraping data from the web\n",
    "Using `pandas.read_html`, we can read data from websites where data is presented in a table-like format. Wikipedia has lots of these, and is a great source for data to play with. Below, we'll look at data from the [List of Sesame Street Muppets](https://en.wikipedia.org/wiki/List_of_Sesame_Street_Muppets)"
   ]
  },
  {
   "cell_type": "code",
   "execution_count": 2,
   "id": "5f2c640f-1f6d-48ba-b619-27c775a999ac",
   "metadata": {},
   "outputs": [
    {
     "data": {
      "text/html": [
       "<div>\n",
       "<style scoped>\n",
       "    .dataframe tbody tr th:only-of-type {\n",
       "        vertical-align: middle;\n",
       "    }\n",
       "\n",
       "    .dataframe tbody tr th {\n",
       "        vertical-align: top;\n",
       "    }\n",
       "\n",
       "    .dataframe thead th {\n",
       "        text-align: right;\n",
       "    }\n",
       "</style>\n",
       "<table border=\"1\" class=\"dataframe\">\n",
       "  <thead>\n",
       "    <tr style=\"text-align: right;\">\n",
       "      <th></th>\n",
       "      <th>Character</th>\n",
       "      <th>Actor/Muppet performer</th>\n",
       "      <th>Description</th>\n",
       "      <th>Unnamed: 3</th>\n",
       "    </tr>\n",
       "  </thead>\n",
       "  <tbody>\n",
       "    <tr>\n",
       "      <th>0</th>\n",
       "      <td>Abby Cadabby</td>\n",
       "      <td>Leslie Carrara-Rudolph[13]</td>\n",
       "      <td>A 4-year-old fairy-in-training with tiny wings...</td>\n",
       "      <td>NaN</td>\n",
       "    </tr>\n",
       "    <tr>\n",
       "      <th>1</th>\n",
       "      <td>Alice Snuffleupagus</td>\n",
       "      <td>Judy Sladky[15]</td>\n",
       "      <td>The baby sister of Aloysius Snuffleupagus (\"Sn...</td>\n",
       "      <td>NaN</td>\n",
       "    </tr>\n",
       "    <tr>\n",
       "      <th>2</th>\n",
       "      <td>Alistair Cookie</td>\n",
       "      <td>Frank Oz[17]</td>\n",
       "      <td>Played by Cookie Monster, he is a parody of Br...</td>\n",
       "      <td>NaN</td>\n",
       "    </tr>\n",
       "    <tr>\n",
       "      <th>3</th>\n",
       "      <td>The Amazing Mumford</td>\n",
       "      <td>Jerry Nelson,[20] John Kennedy[21]</td>\n",
       "      <td>A \"W.C. Fields-esque\" magician whose magic tri...</td>\n",
       "      <td>NaN</td>\n",
       "    </tr>\n",
       "    <tr>\n",
       "      <th>4</th>\n",
       "      <td>Anything Muppets</td>\n",
       "      <td>Various[22]</td>\n",
       "      <td>Writer Christopher Finch called Anything Muppe...</td>\n",
       "      <td>Writer Christopher Finch called Anything Muppe...</td>\n",
       "    </tr>\n",
       "    <tr>\n",
       "      <th>...</th>\n",
       "      <td>...</td>\n",
       "      <td>...</td>\n",
       "      <td>...</td>\n",
       "      <td>...</td>\n",
       "    </tr>\n",
       "    <tr>\n",
       "      <th>114</th>\n",
       "      <td>Telly Monster</td>\n",
       "      <td>Bob Payne (1979), Brian Muehl (1979–1984),[126...</td>\n",
       "      <td>According to Sesame Workshop, \"Telly Monster i...</td>\n",
       "      <td>NaN</td>\n",
       "    </tr>\n",
       "    <tr>\n",
       "      <th>115</th>\n",
       "      <td>The Twiddlebugs</td>\n",
       "      <td>Jim Henson, Frank Oz, Jerry Nelson, Richard Hu...</td>\n",
       "      <td>A family of fuzzy insects (Thomas, Tessie and ...</td>\n",
       "      <td>NaN</td>\n",
       "    </tr>\n",
       "    <tr>\n",
       "      <th>116</th>\n",
       "      <td>The Two-Headed Monster</td>\n",
       "      <td>Left Head: Jerry Nelson[40] Right Head: Richar...</td>\n",
       "      <td>A purple monster with two heads, who generally...</td>\n",
       "      <td>NaN</td>\n",
       "    </tr>\n",
       "    <tr>\n",
       "      <th>117</th>\n",
       "      <td>Wes</td>\n",
       "      <td>Bradley Freeman Jr.</td>\n",
       "      <td>A young Muppet boy. His first appearances incl...</td>\n",
       "      <td>NaN</td>\n",
       "    </tr>\n",
       "    <tr>\n",
       "      <th>118</th>\n",
       "      <td>Zoe</td>\n",
       "      <td>Fran Brill (1993–2015),[140] Jennifer Barnhart...</td>\n",
       "      <td>[86] An orange 3-year-old Muppet who loves to ...</td>\n",
       "      <td>NaN</td>\n",
       "    </tr>\n",
       "  </tbody>\n",
       "</table>\n",
       "<p>119 rows × 4 columns</p>\n",
       "</div>"
      ],
      "text/plain": [
       "                  Character  \\\n",
       "0              Abby Cadabby   \n",
       "1       Alice Snuffleupagus   \n",
       "2           Alistair Cookie   \n",
       "3       The Amazing Mumford   \n",
       "4          Anything Muppets   \n",
       "..                      ...   \n",
       "114           Telly Monster   \n",
       "115         The Twiddlebugs   \n",
       "116  The Two-Headed Monster   \n",
       "117                     Wes   \n",
       "118                     Zoe   \n",
       "\n",
       "                                Actor/Muppet performer  \\\n",
       "0                           Leslie Carrara-Rudolph[13]   \n",
       "1                                      Judy Sladky[15]   \n",
       "2                                         Frank Oz[17]   \n",
       "3                   Jerry Nelson,[20] John Kennedy[21]   \n",
       "4                                          Various[22]   \n",
       "..                                                 ...   \n",
       "114  Bob Payne (1979), Brian Muehl (1979–1984),[126...   \n",
       "115  Jim Henson, Frank Oz, Jerry Nelson, Richard Hu...   \n",
       "116  Left Head: Jerry Nelson[40] Right Head: Richar...   \n",
       "117                                Bradley Freeman Jr.   \n",
       "118  Fran Brill (1993–2015),[140] Jennifer Barnhart...   \n",
       "\n",
       "                                           Description  \\\n",
       "0    A 4-year-old fairy-in-training with tiny wings...   \n",
       "1    The baby sister of Aloysius Snuffleupagus (\"Sn...   \n",
       "2    Played by Cookie Monster, he is a parody of Br...   \n",
       "3    A \"W.C. Fields-esque\" magician whose magic tri...   \n",
       "4    Writer Christopher Finch called Anything Muppe...   \n",
       "..                                                 ...   \n",
       "114  According to Sesame Workshop, \"Telly Monster i...   \n",
       "115  A family of fuzzy insects (Thomas, Tessie and ...   \n",
       "116  A purple monster with two heads, who generally...   \n",
       "117  A young Muppet boy. His first appearances incl...   \n",
       "118  [86] An orange 3-year-old Muppet who loves to ...   \n",
       "\n",
       "                                            Unnamed: 3  \n",
       "0                                                  NaN  \n",
       "1                                                  NaN  \n",
       "2                                                  NaN  \n",
       "3                                                  NaN  \n",
       "4    Writer Christopher Finch called Anything Muppe...  \n",
       "..                                                 ...  \n",
       "114                                                NaN  \n",
       "115                                                NaN  \n",
       "116                                                NaN  \n",
       "117                                                NaN  \n",
       "118                                                NaN  \n",
       "\n",
       "[119 rows x 4 columns]"
      ]
     },
     "execution_count": 2,
     "metadata": {},
     "output_type": "execute_result"
    }
   ],
   "source": [
    "# scrape table data from websites\n",
    "\n",
    "rawdata = pd.read_html(\"https://en.wikipedia.org/wiki/List_of_Sesame_Street_Muppets\")\n",
    "df = rawdata[1]\n",
    "df"
   ]
  },
  {
   "cell_type": "code",
   "execution_count": 3,
   "id": "c2d7a4e2",
   "metadata": {},
   "outputs": [
    {
     "data": {
      "text/plain": [
       "['Character', 'Actor/Muppet performer', 'Description', 'Unnamed: 3']"
      ]
     },
     "execution_count": 3,
     "metadata": {},
     "output_type": "execute_result"
    }
   ],
   "source": [
    "list(df)"
   ]
  },
  {
   "cell_type": "markdown",
   "id": "c0c33e79",
   "metadata": {},
   "source": [
    "## Removing an unwanted column\n",
    "Below are several ways to get rid of the final column (there are more ways to do this!) If you find the \"axis = 1\" part in the first method confusing, well, I do too, and [we are not alone](https://stackoverflow.com/questions/22149584/what-does-axis-in-pandas-mean)! My advice for now is to just accept it and move on. Probably the easiest method is to use `pop` (method 3)"
   ]
  },
  {
   "cell_type": "code",
   "execution_count": 4,
   "id": "3e35bf47",
   "metadata": {},
   "outputs": [
    {
     "data": {
      "text/html": [
       "<div>\n",
       "<style scoped>\n",
       "    .dataframe tbody tr th:only-of-type {\n",
       "        vertical-align: middle;\n",
       "    }\n",
       "\n",
       "    .dataframe tbody tr th {\n",
       "        vertical-align: top;\n",
       "    }\n",
       "\n",
       "    .dataframe thead th {\n",
       "        text-align: right;\n",
       "    }\n",
       "</style>\n",
       "<table border=\"1\" class=\"dataframe\">\n",
       "  <thead>\n",
       "    <tr style=\"text-align: right;\">\n",
       "      <th></th>\n",
       "      <th>Character</th>\n",
       "      <th>Actor/Muppet performer</th>\n",
       "      <th>Description</th>\n",
       "    </tr>\n",
       "  </thead>\n",
       "  <tbody>\n",
       "    <tr>\n",
       "      <th>0</th>\n",
       "      <td>Abby Cadabby</td>\n",
       "      <td>Leslie Carrara-Rudolph[13]</td>\n",
       "      <td>A 4-year-old fairy-in-training with tiny wings...</td>\n",
       "    </tr>\n",
       "    <tr>\n",
       "      <th>1</th>\n",
       "      <td>Alice Snuffleupagus</td>\n",
       "      <td>Judy Sladky[15]</td>\n",
       "      <td>The baby sister of Aloysius Snuffleupagus (\"Sn...</td>\n",
       "    </tr>\n",
       "    <tr>\n",
       "      <th>2</th>\n",
       "      <td>Alistair Cookie</td>\n",
       "      <td>Frank Oz[17]</td>\n",
       "      <td>Played by Cookie Monster, he is a parody of Br...</td>\n",
       "    </tr>\n",
       "    <tr>\n",
       "      <th>3</th>\n",
       "      <td>The Amazing Mumford</td>\n",
       "      <td>Jerry Nelson,[20] John Kennedy[21]</td>\n",
       "      <td>A \"W.C. Fields-esque\" magician whose magic tri...</td>\n",
       "    </tr>\n",
       "    <tr>\n",
       "      <th>4</th>\n",
       "      <td>Anything Muppets</td>\n",
       "      <td>Various[22]</td>\n",
       "      <td>Writer Christopher Finch called Anything Muppe...</td>\n",
       "    </tr>\n",
       "    <tr>\n",
       "      <th>...</th>\n",
       "      <td>...</td>\n",
       "      <td>...</td>\n",
       "      <td>...</td>\n",
       "    </tr>\n",
       "    <tr>\n",
       "      <th>114</th>\n",
       "      <td>Telly Monster</td>\n",
       "      <td>Bob Payne (1979), Brian Muehl (1979–1984),[126...</td>\n",
       "      <td>According to Sesame Workshop, \"Telly Monster i...</td>\n",
       "    </tr>\n",
       "    <tr>\n",
       "      <th>115</th>\n",
       "      <td>The Twiddlebugs</td>\n",
       "      <td>Jim Henson, Frank Oz, Jerry Nelson, Richard Hu...</td>\n",
       "      <td>A family of fuzzy insects (Thomas, Tessie and ...</td>\n",
       "    </tr>\n",
       "    <tr>\n",
       "      <th>116</th>\n",
       "      <td>The Two-Headed Monster</td>\n",
       "      <td>Left Head: Jerry Nelson[40] Right Head: Richar...</td>\n",
       "      <td>A purple monster with two heads, who generally...</td>\n",
       "    </tr>\n",
       "    <tr>\n",
       "      <th>117</th>\n",
       "      <td>Wes</td>\n",
       "      <td>Bradley Freeman Jr.</td>\n",
       "      <td>A young Muppet boy. His first appearances incl...</td>\n",
       "    </tr>\n",
       "    <tr>\n",
       "      <th>118</th>\n",
       "      <td>Zoe</td>\n",
       "      <td>Fran Brill (1993–2015),[140] Jennifer Barnhart...</td>\n",
       "      <td>[86] An orange 3-year-old Muppet who loves to ...</td>\n",
       "    </tr>\n",
       "  </tbody>\n",
       "</table>\n",
       "<p>119 rows × 3 columns</p>\n",
       "</div>"
      ],
      "text/plain": [
       "                  Character  \\\n",
       "0              Abby Cadabby   \n",
       "1       Alice Snuffleupagus   \n",
       "2           Alistair Cookie   \n",
       "3       The Amazing Mumford   \n",
       "4          Anything Muppets   \n",
       "..                      ...   \n",
       "114           Telly Monster   \n",
       "115         The Twiddlebugs   \n",
       "116  The Two-Headed Monster   \n",
       "117                     Wes   \n",
       "118                     Zoe   \n",
       "\n",
       "                                Actor/Muppet performer  \\\n",
       "0                           Leslie Carrara-Rudolph[13]   \n",
       "1                                      Judy Sladky[15]   \n",
       "2                                         Frank Oz[17]   \n",
       "3                   Jerry Nelson,[20] John Kennedy[21]   \n",
       "4                                          Various[22]   \n",
       "..                                                 ...   \n",
       "114  Bob Payne (1979), Brian Muehl (1979–1984),[126...   \n",
       "115  Jim Henson, Frank Oz, Jerry Nelson, Richard Hu...   \n",
       "116  Left Head: Jerry Nelson[40] Right Head: Richar...   \n",
       "117                                Bradley Freeman Jr.   \n",
       "118  Fran Brill (1993–2015),[140] Jennifer Barnhart...   \n",
       "\n",
       "                                           Description  \n",
       "0    A 4-year-old fairy-in-training with tiny wings...  \n",
       "1    The baby sister of Aloysius Snuffleupagus (\"Sn...  \n",
       "2    Played by Cookie Monster, he is a parody of Br...  \n",
       "3    A \"W.C. Fields-esque\" magician whose magic tri...  \n",
       "4    Writer Christopher Finch called Anything Muppe...  \n",
       "..                                                 ...  \n",
       "114  According to Sesame Workshop, \"Telly Monster i...  \n",
       "115  A family of fuzzy insects (Thomas, Tessie and ...  \n",
       "116  A purple monster with two heads, who generally...  \n",
       "117  A young Muppet boy. His first appearances incl...  \n",
       "118  [86] An orange 3-year-old Muppet who loves to ...  \n",
       "\n",
       "[119 rows x 3 columns]"
      ]
     },
     "execution_count": 4,
     "metadata": {},
     "output_type": "execute_result"
    }
   ],
   "source": [
    "\n",
    "# method 1\n",
    "df = df.drop(['Unnamed: 3'], axis = 1)\n",
    "df"
   ]
  },
  {
   "cell_type": "code",
   "execution_count": null,
   "id": "61f26c38",
   "metadata": {},
   "outputs": [],
   "source": [
    "# method 2\n",
    "df = df.loc[:,list(df)[0:3]] \n",
    "df"
   ]
  },
  {
   "cell_type": "code",
   "execution_count": null,
   "id": "487a997b",
   "metadata": {},
   "outputs": [],
   "source": [
    "# method 3\n",
    "df.pop('Unnamed: 3')\n",
    "df"
   ]
  },
  {
   "cell_type": "code",
   "execution_count": 6,
   "id": "55b5a3fd-9925-4b5f-a0c1-d4c8e5e31e8d",
   "metadata": {},
   "outputs": [
    {
     "name": "stdout",
     "output_type": "stream",
     "text": [
      "['Abby Cadabby', 'Alice Snuffleupagus', 'Alistair Cookie', 'The Amazing Mumford', 'Anything Muppets', 'AM Monsters', 'Aristotle', 'Arlene Frantic', 'Baby Bear', 'Barkley', 'Beautiful Day Monster[broken anchor]', 'Bennett Snerf', 'Benny', 'Bert', 'Betty Lou', 'Biff', 'Big Bird', 'Bip Bippadotta', 'Bruno', 'Buster', 'Captain Vegetable', 'Clementine', 'Colambo', 'Cookie Monster', 'Count von Count', 'Countess Dahling von Dahling', 'Curly Bear', 'Deena', 'Dexter', 'Dingers', 'Don Music', 'Donald/Ronald Grump', 'Dr. Feel', 'Dr. Nobel Price', 'Elizabeth', 'Elmo', 'Elijah', 'Ernie', 'Farley', 'Fatima', 'Ferlinghetti Donizetti', 'Flo Bear', 'Forgetful Jones', 'Frazzle', 'Fred', 'Gabrielle', 'Gladys the Cow', 'Granny Bird', 'Mrs. Grouch', 'Gonger', 'Granny Fanny Nestlerode', 'Grover', 'Grundgetta', 'Gulliver', 'Guy Smiley', 'Harvey Kneeslapper', 'Herbert Birdsfoot', 'Herry Monster', 'Honkers', 'Hoots', 'Horatio', 'Humphrey', 'Ingrid', 'Jamie Fox', 'Ji-Young', 'Julia', 'Kermit[101]', 'Kingston Livingston III', 'Lefty', 'Leo', 'Little Bird', 'Little Chrissy', 'Little Jerry', 'Little Murray Sparkles', 'Liz', 'Louie', 'Mama Bear', 'The Martians[110]', 'Merry Monster', 'Meryl Sheep', 'Monty', 'Mr. Johnson', 'Murray Monster', 'Natasha', 'Oscar the Grouch', 'Ovejita (2008)', 'Papa Bear', 'Placido Flamingo', 'Poco Loco', 'Prairie Dawn', 'Prince Charming', 'Professor Hastings', 'Rodeo Rosie', 'Roosevelt Franklin', \"Roosevelt Franklin's Mother\", 'Rosita', 'Roxie Marie', 'Ruby', 'Rudy', 'SAM', 'Segi (2010)', 'Sherlock Hemlock', 'Sherry Netherland', 'Simon Soundman', 'Slimey', 'Smartie (2017)', 'Mr. Snuffleupagus (\"Snuffy\")', 'Sonny Friendly', 'The Squirelles', 'The Oinker Sisters[134]', 'Stinky', 'Sully', 'Tango', 'Tamir', 'Telly Monster', 'The Twiddlebugs', 'The Two-Headed Monster', 'Wes', 'Zoe']\n"
     ]
    }
   ],
   "source": [
    "# take a column from a dataframe and assign it to a list variable\n",
    "characters = df['Character'].tolist()\n",
    "print(characters)"
   ]
  },
  {
   "cell_type": "code",
   "execution_count": 7,
   "id": "8cb1c65e-261b-49f2-928a-7c5aa512ccd4",
   "metadata": {},
   "outputs": [
    {
     "name": "stdout",
     "output_type": "stream",
     "text": [
      "['Abby Cadabby', 'Alice Snuffleupagus', 'Alistair Cookie']\n"
     ]
    }
   ],
   "source": [
    "# find the first four items in the list\n",
    "print(characters[0:4])"
   ]
  },
  {
   "cell_type": "code",
   "execution_count": 10,
   "id": "eff3b26b-7766-454f-b899-4637f87acb3e",
   "metadata": {},
   "outputs": [
    {
     "name": "stdout",
     "output_type": "stream",
     "text": [
      "['The Twiddlebugs', 'The Two-Headed Monster', 'Wes']\n"
     ]
    }
   ],
   "source": [
    "# find the last three items in the list\n",
    "print(characters[-4:-1])"
   ]
  },
  {
   "cell_type": "code",
   "execution_count": null,
   "id": "6a28c318-38d8-44f8-9fff-f17eb4a1743b",
   "metadata": {},
   "outputs": [],
   "source": [
    "# find items in the middle of the list\n"
   ]
  },
  {
   "cell_type": "code",
   "execution_count": 16,
   "id": "77e93e13-bc56-4402-a087-b71cc05e7de7",
   "metadata": {},
   "outputs": [
    {
     "name": "stdout",
     "output_type": "stream",
     "text": [
      "119\n",
      "['Horatio', 'Humphrey']\n"
     ]
    }
   ],
   "source": [
    "# select the first 20 items from a list\n",
    "print(len(characters))\n",
    "print(characters[60:62])"
   ]
  },
  {
   "cell_type": "code",
   "execution_count": 19,
   "id": "d7da6eff-131f-40e3-bbb2-1bb38b4c95a7",
   "metadata": {},
   "outputs": [
    {
     "name": "stdout",
     "output_type": "stream",
     "text": [
      "['Abby Cadabby', 'Alice Snuffleupagus', 'Alistair Cookie', 'The Amazing Mumford', 'Anything Muppets', 'AM Monsters', 'Aristotle', 'Arlene Frantic', 'Baby Bear', 'Barkley', 'Beautiful Day Monster[broken anchor]', 'Bennett Snerf', 'Benny', 'Bert', 'Betty Lou', 'Biff', 'Big Bird', 'Bip Bippadotta', 'Bruno', 'Buster', 'Captain Vegetable', 'Clementine', 'Colambo', 'Cookie Monster', 'Count von Count', 'Countess Dahling von Dahling', 'Curly Bear', 'Deena', 'Dexter', 'Dingers', 'Don Music', 'Donald/Ronald Grump', 'Dr. Feel', 'Dr. Nobel Price', 'Elizabeth', 'Elmo', 'Elijah', 'Ernie', 'Farley', 'Fatima', 'Ferlinghetti Donizetti', 'Flo Bear', 'Forgetful Jones', 'Frazzle', 'Fred', 'Gabrielle', 'Gladys the Cow', 'Granny Bird', 'Mrs. Grouch', 'Gonger', 'Granny Fanny Nestlerode', 'Grover', 'Grundgetta', 'Gulliver', 'Guy Smiley', 'Harvey Kneeslapper', 'Herbert Birdsfoot', 'Herry Monster', 'Honkers', 'Hoots', 'Horatio', 'Humphrey', 'Ingrid', 'Jamie Fox', 'Ji-Young', 'Julia', 'Kermit[101]', 'Kingston Livingston III', 'Lefty', 'Leo', 'Little Bird', 'Little Chrissy', 'Little Jerry', 'Little Murray Sparkles', 'Liz', 'Louie', 'Mama Bear', 'The Martians[110]', 'Merry Monster', 'Meryl Sheep', 'Monty', 'Mr. Johnson', 'Murray Monster', 'Natasha', 'Oscar the Grouch', 'Ovejita (2008)', 'Papa Bear', 'Placido Flamingo', 'Poco Loco', 'Prairie Dawn', 'Prince Charming', 'Professor Hastings', 'Rodeo Rosie', 'Roosevelt Franklin', \"Roosevelt Franklin's Mother\", 'Rosita', 'Roxie Marie', 'Ruby', 'Rudy', 'SAM', 'Segi (2010)', 'Sherlock Hemlock', 'Sherry Netherland', 'Simon Soundman', 'Slimey', 'Smartie (2017)', 'Mr. Snuffleupagus (\"Snuffy\")', 'Sonny Friendly', 'The Squirelles', 'The Oinker Sisters[134]', 'Stinky', 'Sully', 'Tango', 'Tamir', 'Telly Monster', 'The Twiddlebugs', 'The Two-Headed Monster', 'Wes', 'Zoe']\n",
      "['Abby Cadabby', 'Alice Snuffleupagus', 'Alistair Cookie', 'The Amazing Mumford', 'Anything Muppets', 'AM Monsters', 'Aristotle', 'Arlene Frantic', 'Baby Bear', 'Barkley', 'Beautiful Day Monster[broken anchor]', 'Bennett Snerf', 'Benny', 'Bert', 'Betty Lou', 'Biff', 'Big Bird', 'Bip Bippadotta', 'Bruno', 'Buster', 'Captain Vegetable', 'Clementine', 'Colambo', 'Cookie Monster', 'Count von Count', 'Countess Dahling von Dahling', 'Curly Bear', 'Deena', 'Dexter', 'Dingers', 'Don Music', 'Donald/Ronald Grump', 'Dr. Feel', 'Dr. Nobel Price', 'Elizabeth', 'Elmo', 'Elijah', 'Ernie', 'Farley', 'Fatima', 'Ferlinghetti Donizetti', 'Flo Bear', 'Forgetful Jones', 'Frazzle', 'Fred', 'Gabrielle', 'Gladys the Cow', 'Granny Bird', 'Mrs. Grouch', 'Gonger', 'Granny Fanny Nestlerode', 'Grover', 'Grundgetta', 'Gulliver', 'Guy Smiley', 'Harvey Kneeslapper', 'Herbert Birdsfoot', 'Herry Monster', 'Honkers', 'Hoots', 'Horatio', 'Humphrey', 'Ingrid', 'Jamie Fox', 'Ji-Young', 'Julia', 'Kermit[101]', 'Kingston Livingston III', 'Lefty', 'Leo', 'Little Bird', 'Little Chrissy', 'Little Jerry', 'Little Murray Sparkles', 'Liz', 'Louie', 'Mama Bear', 'The Martians[110]', 'Merry Monster', 'Meryl Sheep', 'Monty', 'Mr. Johnson', 'Murray Monster', 'Natasha', 'Oscar the Grouch', 'Ovejita (2008)', 'Papa Bear', 'Placido Flamingo', 'Poco Loco', 'Prairie Dawn', 'Prince Charming', 'Professor Hastings', 'Rodeo Rosie', 'Roosevelt Franklin', \"Roosevelt Franklin's Mother\", 'Rosita', 'Roxie Marie', 'Ruby', 'Rudy', 'SAM', 'Segi (2010)', 'Sherlock Hemlock', 'Sherry Netherland', 'Simon Soundman', 'Slimey', 'Smartie (2017)', 'Mr. Snuffleupagus (\"Snuffy\")', 'Sonny Friendly', 'The Squirelles', 'The Oinker Sisters[134]', 'Stinky', 'Sully', 'Tango', 'Tamir', 'Telly Monster', 'The Twiddlebugs', 'The Two-Headed Monster', 'Wes']\n"
     ]
    }
   ],
   "source": [
    "# remove the last item in a list\n",
    "print(characters)\n",
    "characters.pop(-1)"
   ]
  },
  {
   "cell_type": "code",
   "execution_count": null,
   "id": "48dcba7c-f68f-402d-adc0-4dee866f76fb",
   "metadata": {},
   "outputs": [],
   "source": [
    "# inpsect the list to make sure the last item was removed\n",
    "print(characters)"
   ]
  },
  {
   "cell_type": "code",
   "execution_count": 25,
   "id": "6385cddf",
   "metadata": {},
   "outputs": [
    {
     "name": "stdout",
     "output_type": "stream",
     "text": [
      "['Abby Cadabby', 'Alice Snuffleupagus', 'Alistair Cookie', 'The Amazing Mumford', 'Anything Muppets', 'AM Monsters', 'Aristotle', 'Arlene Frantic', 'Baby Bear', 'Barkley', 'Beautiful Day Monster[broken anchor]', 'Bennett Snerf', 'Benny', 'Bert', 'Betty Lou', 'Biff', 'Big Bird', 'Bip Bippadotta', 'Bruno', 'Buster', 'Captain Vegetable', 'Clementine', 'Colambo', 'Cookie Monster', 'Count von Count', 'Countess Dahling von Dahling', 'Curly Bear', 'Deena', 'Dexter', 'Dingers', 'Don Music', 'Donald/Ronald Grump', 'Dr. Feel', 'Dr. Nobel Price', 'Elizabeth', 'Elmo', 'Elijah', 'Ernie', 'Farley', 'Fatima', 'Ferlinghetti Donizetti', 'Flo Bear', 'Forgetful Jones', 'Frazzle', 'Fred', 'Gabrielle', 'Gladys the Cow', 'Granny Bird', 'Mrs. Grouch', 'Gonger', 'Granny Fanny Nestlerode', 'Grover', 'Grundgetta', 'Guy Smiley', 'Harvey Kneeslapper', 'Herbert Birdsfoot', 'Herry Monster', 'Honkers', 'Hoots', 'Humphrey', 'Ingrid', 'Jamie Fox', 'Ji-Young', 'Julia', 'Kermit[101]', 'Kingston Livingston III', 'Lefty', 'Leo', 'Little Bird', 'Little Chrissy', 'Little Jerry', 'Little Murray Sparkles', 'Liz', 'Louie', 'Mama Bear', 'The Martians[110]', 'Merry Monster', 'Meryl Sheep', 'Monty', 'Mr. Johnson', 'Murray Monster', 'Natasha', 'Oscar the Grouch', 'Ovejita (2008)', 'Papa Bear', 'Placido Flamingo', 'Poco Loco', 'Prairie Dawn', 'Prince Charming', 'Professor Hastings', 'Rodeo Rosie', 'Roosevelt Franklin', \"Roosevelt Franklin's Mother\", 'Rosita', 'Roxie Marie', 'Ruby', 'Rudy', 'SAM', 'Segi (2010)', 'Sherlock Hemlock', 'Sherry Netherland', 'Simon Soundman', 'Slimey', 'Smartie (2017)', 'Mr. Snuffleupagus (\"Snuffy\")', 'Sonny Friendly', 'The Squirelles', 'The Oinker Sisters[134]', 'Stinky', 'Sully', 'Tango', 'Tamir', 'Telly Monster', 'The Twiddlebugs', 'The Two-Headed Monster', 'Wes']\n"
     ]
    }
   ],
   "source": [
    "# remove a specific item from the list\n",
    "characters.remove('Horatio')\n",
    "print(characters)"
   ]
  },
  {
   "cell_type": "code",
   "execution_count": 26,
   "id": "39f536a3-c619-42da-8143-22a8d69ed7af",
   "metadata": {},
   "outputs": [],
   "source": [
    "# stick a Kermit on the end of the list\n",
    "characters.append('Kermit')"
   ]
  },
  {
   "cell_type": "code",
   "execution_count": 27,
   "id": "813f8e19-83ec-419a-b5c9-81cad7fe6200",
   "metadata": {},
   "outputs": [
    {
     "name": "stdout",
     "output_type": "stream",
     "text": [
      "['Abby Cadabby', 'Alice Snuffleupagus', 'Alistair Cookie', 'The Amazing Mumford', 'Anything Muppets', 'AM Monsters', 'Aristotle', 'Arlene Frantic', 'Baby Bear', 'Barkley', 'Beautiful Day Monster[broken anchor]', 'Bennett Snerf', 'Benny', 'Bert', 'Betty Lou', 'Biff', 'Big Bird', 'Bip Bippadotta', 'Bruno', 'Buster', 'Captain Vegetable', 'Clementine', 'Colambo', 'Cookie Monster', 'Count von Count', 'Countess Dahling von Dahling', 'Curly Bear', 'Deena', 'Dexter', 'Dingers', 'Don Music', 'Donald/Ronald Grump', 'Dr. Feel', 'Dr. Nobel Price', 'Elizabeth', 'Elmo', 'Elijah', 'Ernie', 'Farley', 'Fatima', 'Ferlinghetti Donizetti', 'Flo Bear', 'Forgetful Jones', 'Frazzle', 'Fred', 'Gabrielle', 'Gladys the Cow', 'Granny Bird', 'Mrs. Grouch', 'Gonger', 'Granny Fanny Nestlerode', 'Grover', 'Grundgetta', 'Guy Smiley', 'Harvey Kneeslapper', 'Herbert Birdsfoot', 'Herry Monster', 'Honkers', 'Hoots', 'Humphrey', 'Ingrid', 'Jamie Fox', 'Ji-Young', 'Julia', 'Kermit[101]', 'Kingston Livingston III', 'Lefty', 'Leo', 'Little Bird', 'Little Chrissy', 'Little Jerry', 'Little Murray Sparkles', 'Liz', 'Louie', 'Mama Bear', 'The Martians[110]', 'Merry Monster', 'Meryl Sheep', 'Monty', 'Mr. Johnson', 'Murray Monster', 'Natasha', 'Oscar the Grouch', 'Ovejita (2008)', 'Papa Bear', 'Placido Flamingo', 'Poco Loco', 'Prairie Dawn', 'Prince Charming', 'Professor Hastings', 'Rodeo Rosie', 'Roosevelt Franklin', \"Roosevelt Franklin's Mother\", 'Rosita', 'Roxie Marie', 'Ruby', 'Rudy', 'SAM', 'Segi (2010)', 'Sherlock Hemlock', 'Sherry Netherland', 'Simon Soundman', 'Slimey', 'Smartie (2017)', 'Mr. Snuffleupagus (\"Snuffy\")', 'Sonny Friendly', 'The Squirelles', 'The Oinker Sisters[134]', 'Stinky', 'Sully', 'Tango', 'Tamir', 'Telly Monster', 'The Twiddlebugs', 'The Two-Headed Monster', 'Wes', 'Kermit']\n"
     ]
    }
   ],
   "source": [
    "# inspect the list to make sure Kermit was added\n",
    "print(characters)"
   ]
  },
  {
   "cell_type": "code",
   "execution_count": 29,
   "id": "3e46498b-fe8d-4046-ae41-72751a0f779d",
   "metadata": {},
   "outputs": [],
   "source": [
    "# insert an item into a list at a particular position\n",
    "characters.insert(3, 'Froggy')"
   ]
  },
  {
   "cell_type": "code",
   "execution_count": 30,
   "id": "0630ae1d-d520-471e-be91-4ee57e1b289a",
   "metadata": {},
   "outputs": [],
   "source": [
    "# replace an item in a list\n",
    "characters[3]= 'Kermit2'"
   ]
  },
  {
   "cell_type": "code",
   "execution_count": 37,
   "id": "4fe79de9-218b-4bbb-ab17-8461ed5a6ff0",
   "metadata": {},
   "outputs": [
    {
     "name": "stdout",
     "output_type": "stream",
     "text": [
      "['Abby Cadabby is a cute monster', 'Alice Snuffleupagus is a cute monster', 'Alistair Cookie is a cute monster', 'Kermit2 is a cute monster', 'Froggy is a cute monster', 'The Amazing Mumford is a cute monster', 'Anything Muppets is a cute monster', 'AM Monsters is a cute monster', 'Aristotle is a cute monster', 'Arlene Frantic is a cute monster', 'Baby Bear is a cute monster', 'Barkley is a cute monster', 'Beautiful Day Monster[broken anchor] is a cute monster', 'Bennett Snerf is a cute monster', 'Benny is a cute monster', 'Bert is a cute monster', 'Betty Lou is a cute monster', 'Biff is a cute monster', 'Big Bird is a cute monster', 'Bip Bippadotta is a cute monster', 'Bruno is a cute monster', 'Buster is a cute monster', 'Captain Vegetable is a cute monster', 'Clementine is a cute monster', 'Colambo is a cute monster', 'Cookie Monster is a cute monster', 'Count von Count is a cute monster', 'Countess Dahling von Dahling is a cute monster', 'Curly Bear is a cute monster', 'Deena is a cute monster', 'Dexter is a cute monster', 'Dingers is a cute monster', 'Don Music is a cute monster', 'Donald/Ronald Grump is a cute monster', 'Dr. Feel is a cute monster', 'Dr. Nobel Price is a cute monster', 'Elizabeth is a cute monster', 'Elmo is a cute monster', 'Elijah is a cute monster', 'Ernie is a cute monster', 'Farley is a cute monster', 'Fatima is a cute monster', 'Ferlinghetti Donizetti is a cute monster', 'Flo Bear is a cute monster', 'Forgetful Jones is a cute monster', 'Frazzle is a cute monster', 'Fred is a cute monster', 'Gabrielle is a cute monster', 'Gladys the Cow is a cute monster', 'Granny Bird is a cute monster', 'Mrs. Grouch is a cute monster', 'Gonger is a cute monster', 'Granny Fanny Nestlerode is a cute monster', 'Grover is a cute monster', 'Grundgetta is a cute monster', 'Guy Smiley is a cute monster', 'Harvey Kneeslapper is a cute monster', 'Herbert Birdsfoot is a cute monster', 'Herry Monster is a cute monster', 'Honkers is a cute monster', 'Hoots is a cute monster', 'Humphrey is a cute monster', 'Ingrid is a cute monster', 'Jamie Fox is a cute monster', 'Ji-Young is a cute monster', 'Julia is a cute monster', 'Kermit[101] is a cute monster', 'Kingston Livingston III is a cute monster', 'Lefty is a cute monster', 'Leo is a cute monster', 'Little Bird is a cute monster', 'Little Chrissy is a cute monster', 'Little Jerry is a cute monster', 'Little Murray Sparkles is a cute monster', 'Liz is a cute monster', 'Louie is a cute monster', 'Mama Bear is a cute monster', 'The Martians[110] is a cute monster', 'Merry Monster is a cute monster', 'Meryl Sheep is a cute monster', 'Monty is a cute monster', 'Mr. Johnson is a cute monster', 'Murray Monster is a cute monster', 'Natasha is a cute monster', 'Oscar the Grouch is a cute monster', 'Ovejita (2008) is a cute monster', 'Papa Bear is a cute monster', 'Placido Flamingo is a cute monster', 'Poco Loco is a cute monster', 'Prairie Dawn is a cute monster', 'Prince Charming is a cute monster', 'Professor Hastings is a cute monster', 'Rodeo Rosie is a cute monster', 'Roosevelt Franklin is a cute monster', \"Roosevelt Franklin's Mother is a cute monster\", 'Rosita is a cute monster', 'Roxie Marie is a cute monster', 'Ruby is a cute monster', 'Rudy is a cute monster', 'SAM is a cute monster', 'Segi (2010) is a cute monster', 'Sherlock Hemlock is a cute monster', 'Sherry Netherland is a cute monster', 'Simon Soundman is a cute monster', 'Slimey is a cute monster', 'Smartie (2017) is a cute monster', 'Mr. Snuffleupagus (\"Snuffy\") is a cute monster', 'Sonny Friendly is a cute monster', 'The Squirelles is a cute monster', 'The Oinker Sisters[134] is a cute monster', 'Stinky is a cute monster', 'Sully is a cute monster', 'Tango is a cute monster', 'Tamir is a cute monster', 'Telly Monster is a cute monster', 'The Twiddlebugs is a cute monster', 'The Two-Headed Monster is a cute monster', 'Wes is a cute monster', 'Kermit is a cute monster']\n"
     ]
    }
   ],
   "source": [
    "# make a new list which adds \"is a cute monster\" to each item in the list\n",
    "\n",
    "cute_character_list = []\n",
    "for i in characters:\n",
    "    cute_characters = i + ' is a cute monster' \n",
    "    cute_character_list.append(cute_characters) \n",
    "\n",
    "print(cute_character_list)\n"
   ]
  },
  {
   "cell_type": "code",
   "execution_count": 39,
   "id": "b589c607-f626-41b8-925b-3e5bb5c65648",
   "metadata": {},
   "outputs": [
    {
     "name": "stdout",
     "output_type": "stream",
     "text": [
      "['Abby Cadabby', 'Alice Snuffleupagus', 'Alistair Cookie', 'Kermit2', 'Froggy', 'The Amazing Mumford', 'Anything Muppets', 'AM Monsters', 'Aristotle', 'Arlene Frantic', 'Baby Bear', 'Barkley', 'Beautiful Day Monster[broken anchor]', 'Bennett Snerf', 'Benny', 'Bert', 'Betty Lou', 'Biff', 'Big Bird', 'Bip Bippadotta', 'Bruno is a cute monster', 'Buster is a cute monster', 'Captain Vegetable is a cute monster', 'Clementine is a cute monster', 'Colambo is a cute monster', 'Cookie Monster is a cute monster', 'Count von Count is a cute monster', 'Countess Dahling von Dahling is a cute monster', 'Curly Bear is a cute monster', 'Deena is a cute monster', 'Dexter is a cute monster', 'Dingers is a cute monster', 'Don Music is a cute monster', 'Donald/Ronald Grump is a cute monster', 'Dr. Feel is a cute monster', 'Dr. Nobel Price is a cute monster', 'Elizabeth is a cute monster', 'Elmo is a cute monster', 'Elijah is a cute monster', 'Ernie is a cute monster', 'Farley is a cute monster', 'Fatima is a cute monster', 'Ferlinghetti Donizetti is a cute monster', 'Flo Bear is a cute monster', 'Forgetful Jones is a cute monster', 'Frazzle is a cute monster', 'Fred is a cute monster', 'Gabrielle is a cute monster', 'Gladys the Cow is a cute monster', 'Granny Bird is a cute monster', 'Mrs. Grouch is a cute monster', 'Gonger is a cute monster', 'Granny Fanny Nestlerode is a cute monster', 'Grover is a cute monster', 'Grundgetta is a cute monster', 'Guy Smiley is a cute monster', 'Harvey Kneeslapper is a cute monster', 'Herbert Birdsfoot is a cute monster', 'Herry Monster is a cute monster', 'Honkers is a cute monster', 'Hoots is a cute monster', 'Humphrey is a cute monster', 'Ingrid is a cute monster', 'Jamie Fox is a cute monster', 'Ji-Young is a cute monster', 'Julia is a cute monster', 'Kermit[101] is a cute monster', 'Kingston Livingston III is a cute monster', 'Lefty is a cute monster', 'Leo is a cute monster', 'Little Bird is a cute monster', 'Little Chrissy is a cute monster', 'Little Jerry is a cute monster', 'Little Murray Sparkles is a cute monster', 'Liz is a cute monster', 'Louie is a cute monster', 'Mama Bear is a cute monster', 'The Martians[110] is a cute monster', 'Merry Monster is a cute monster', 'Meryl Sheep is a cute monster', 'Monty is a cute monster', 'Mr. Johnson is a cute monster', 'Murray Monster is a cute monster', 'Natasha is a cute monster', 'Oscar the Grouch is a cute monster', 'Ovejita (2008) is a cute monster', 'Papa Bear is a cute monster', 'Placido Flamingo is a cute monster', 'Poco Loco is a cute monster', 'Prairie Dawn is a cute monster', 'Prince Charming is a cute monster', 'Professor Hastings is a cute monster', 'Rodeo Rosie is a cute monster', 'Roosevelt Franklin is a cute monster', \"Roosevelt Franklin's Mother is a cute monster\", 'Rosita is a cute monster', 'Roxie Marie is a cute monster', 'Ruby is a cute monster', 'Rudy is a cute monster', 'SAM is a cute monster', 'Segi (2010) is a cute monster', 'Sherlock Hemlock is a cute monster', 'Sherry Netherland is a cute monster', 'Simon Soundman is a cute monster', 'Slimey is a cute monster', 'Smartie (2017) is a cute monster', 'Mr. Snuffleupagus (\"Snuffy\") is a cute monster', 'Sonny Friendly is a cute monster', 'The Squirelles is a cute monster', 'The Oinker Sisters[134] is a cute monster', 'Stinky is a cute monster', 'Sully is a cute monster', 'Tango is a cute monster', 'Tamir is a cute monster', 'Telly Monster is a cute monster', 'The Twiddlebugs is a cute monster', 'The Two-Headed Monster is a cute monster', 'Wes is a cute monster', 'Kermit is a cute monster']\n"
     ]
    }
   ],
   "source": [
    "# reset list b to original first 20 items from list a\n",
    "cute_character_list[0:20] = characters[0:20]\n",
    "print(cute_character_list)"
   ]
  },
  {
   "cell_type": "code",
   "execution_count": 41,
   "id": "3c684c32-ebd4-464c-9360-5d7de776c949",
   "metadata": {},
   "outputs": [
    {
     "name": "stdout",
     "output_type": "stream",
     "text": [
      "['Aristotle', 'Elmo', 'Mama Bear', 'Slimey', 'Kermit']\n"
     ]
    }
   ],
   "source": [
    "# make a list of your favorite monsters, and then make a new list which only includes the monsters \n",
    "# from list b that are also in your favorites list\n",
    "favs = ['Mama Bear', 'Kermit', 'Slimey', 'Cookie monster', 'Rainbow Monster', 'Elmo', 'Aristotle', 'Cookie Monsters baby cousin']\n",
    "new_list = []\n",
    "for i in characters: \n",
    "    if i in favs:\n",
    "        new_list.append(i)\n",
    "\n",
    "print(new_list)"
   ]
  },
  {
   "cell_type": "code",
   "execution_count": 42,
   "id": "34fe6e55-ffc2-4301-9235-8081338cd1e7",
   "metadata": {},
   "outputs": [
    {
     "name": "stdout",
     "output_type": "stream",
     "text": [
      "['Abby Cadabby', 'Alice Snuffleupagus', 'Alistair Cookie', 'Kermit2', 'Froggy', 'The Amazing Mumford', 'Anything Muppets', 'AM Monsters', 'Arlene Frantic', 'Baby Bear', 'Barkley', 'Beautiful Day Monster[broken anchor]', 'Bennett Snerf', 'Benny', 'Bert', 'Betty Lou', 'Biff', 'Big Bird', 'Bip Bippadotta', 'Bruno', 'Buster', 'Captain Vegetable', 'Clementine', 'Colambo', 'Cookie Monster', 'Count von Count', 'Countess Dahling von Dahling', 'Curly Bear', 'Deena', 'Dexter', 'Dingers', 'Don Music', 'Donald/Ronald Grump', 'Dr. Feel', 'Dr. Nobel Price', 'Elizabeth', 'Elijah', 'Ernie', 'Farley', 'Fatima', 'Ferlinghetti Donizetti', 'Flo Bear', 'Forgetful Jones', 'Frazzle', 'Fred', 'Gabrielle', 'Gladys the Cow', 'Granny Bird', 'Mrs. Grouch', 'Gonger', 'Granny Fanny Nestlerode', 'Grover', 'Grundgetta', 'Guy Smiley', 'Harvey Kneeslapper', 'Herbert Birdsfoot', 'Herry Monster', 'Honkers', 'Hoots', 'Humphrey', 'Ingrid', 'Jamie Fox', 'Ji-Young', 'Julia', 'Kermit[101]', 'Kingston Livingston III', 'Lefty', 'Leo', 'Little Bird', 'Little Chrissy', 'Little Jerry', 'Little Murray Sparkles', 'Liz', 'Louie', 'The Martians[110]', 'Merry Monster', 'Meryl Sheep', 'Monty', 'Mr. Johnson', 'Murray Monster', 'Natasha', 'Oscar the Grouch', 'Ovejita (2008)', 'Papa Bear', 'Placido Flamingo', 'Poco Loco', 'Prairie Dawn', 'Prince Charming', 'Professor Hastings', 'Rodeo Rosie', 'Roosevelt Franklin', \"Roosevelt Franklin's Mother\", 'Rosita', 'Roxie Marie', 'Ruby', 'Rudy', 'SAM', 'Segi (2010)', 'Sherlock Hemlock', 'Sherry Netherland', 'Simon Soundman', 'Smartie (2017)', 'Mr. Snuffleupagus (\"Snuffy\")', 'Sonny Friendly', 'The Squirelles', 'The Oinker Sisters[134]', 'Stinky', 'Sully', 'Tango', 'Tamir', 'Telly Monster', 'The Twiddlebugs', 'The Two-Headed Monster', 'Wes']\n"
     ]
    }
   ],
   "source": [
    "# make a new list which includes the monsters from list b that are not in your favorites list\n",
    "new_list2 = []\n",
    "for i in characters: \n",
    "    if not i in favs:\n",
    "        new_list2.append(i)\n",
    "\n",
    "print(new_list2)\n",
    "\n"
   ]
  },
  {
   "cell_type": "markdown",
   "id": "34204737",
   "metadata": {},
   "source": [
    "## More fun with lists"
   ]
  },
  {
   "cell_type": "code",
   "execution_count": 44,
   "id": "cdc578cc-0789-4ecb-84db-2faffa4e7b1d",
   "metadata": {},
   "outputs": [],
   "source": [
    "# add 10 to each number in d\n",
    "\n",
    "d = [1, 2, 3, 4, 5]\n",
    "d = [x + 10 for x in d]\n",
    "\n",
    "\n"
   ]
  },
  {
   "cell_type": "code",
   "execution_count": 45,
   "id": "e0d972db-0713-44cd-9cba-4d82d32b725c",
   "metadata": {},
   "outputs": [
    {
     "name": "stdout",
     "output_type": "stream",
     "text": [
      "[5.5, 6.0, 6.5, 7.0, 7.5]\n"
     ]
    }
   ],
   "source": [
    "# divide each number in d by 2\n",
    "d = [x / 2 for x in d]\n",
    "print(d)\n"
   ]
  },
  {
   "cell_type": "markdown",
   "id": "b8fbc6db",
   "metadata": {},
   "source": [
    "## Dataframe manipulation"
   ]
  },
  {
   "cell_type": "code",
   "execution_count": null,
   "id": "99580398-5dcd-449e-9f61-e200d0f13af0",
   "metadata": {},
   "outputs": [],
   "source": [
    "# download the student sleep data\n",
    "df = pd.read_csv(\"https://raw.githubusercontent.com/ethanweed/ExPsyLing/master/Data/StudentSleep.csv\")\n",
    "df"
   ]
  },
  {
   "cell_type": "code",
   "execution_count": null,
   "id": "26dc3edb-632b-4d18-9f02-06c0bfb27355",
   "metadata": {},
   "outputs": [],
   "source": [
    "# find the number of rows and columns in the dataframe\n"
   ]
  },
  {
   "cell_type": "code",
   "execution_count": null,
   "id": "ab0b74e4-14ec-4f77-8cd0-80c06f9da671",
   "metadata": {},
   "outputs": [],
   "source": [
    "# make a new dataframe df1 which only includes the first 4 rows of the original dataframe\n"
   ]
  },
  {
   "cell_type": "code",
   "execution_count": null,
   "id": "520d1003-8f1c-4588-b39a-f597116e9889",
   "metadata": {},
   "outputs": [],
   "source": [
    "# make another new dataframe df2 which only includes rows 5 through the end of the original dataframe\n"
   ]
  },
  {
   "cell_type": "code",
   "execution_count": null,
   "id": "c7a77dbf-e5ea-4d30-ab3d-e2c1a08be22b",
   "metadata": {},
   "outputs": [],
   "source": [
    "# make a third dataframe df3 with df2 on top of df1 (hint: use pd.concat)\n"
   ]
  },
  {
   "cell_type": "code",
   "execution_count": null,
   "id": "098a9132-25ce-43b8-9db0-83812bb8ac2d",
   "metadata": {},
   "outputs": [],
   "source": [
    "# overwrite df3 with df1 and df2 back in their original order\n"
   ]
  },
  {
   "cell_type": "code",
   "execution_count": null,
   "id": "df30707f-fbca-4349-ad7f-4508c7b631d5",
   "metadata": {},
   "outputs": [],
   "source": [
    "# make a new column called \"average\" which is the mean of the other columns for each row\n",
    "df3['average'] = df3.mean(axis = 1)\n",
    "df3"
   ]
  },
  {
   "cell_type": "code",
   "execution_count": null,
   "id": "2caec236-f736-4918-856e-3be7f34d33a8",
   "metadata": {},
   "outputs": [],
   "source": [
    "# remove the average column from the dataframe\n",
    "df3.pop('average')\n",
    "df3"
   ]
  },
  {
   "cell_type": "code",
   "execution_count": null,
   "id": "6e71e2ae-4e53-49ae-a292-2b24b7b2c5f8",
   "metadata": {},
   "outputs": [],
   "source": [
    "# make a list of the means of each column in the dataframe\n",
    "column_means = list(df3.mean())\n",
    "column_means"
   ]
  },
  {
   "cell_type": "code",
   "execution_count": null,
   "id": "1b1bf318-b667-4802-a4e0-38971decce39",
   "metadata": {},
   "outputs": [],
   "source": [
    "# make a list of the means of each row in the dataframe\n",
    "colnames = list(df3)\n",
    "colnames"
   ]
  },
  {
   "cell_type": "code",
   "execution_count": null,
   "id": "fb4fa3d4-7761-4e98-b579-bf46327b6ea5",
   "metadata": {},
   "outputs": [],
   "source": [
    "list(zip(colnames, column_means))"
   ]
  },
  {
   "cell_type": "code",
   "execution_count": null,
   "id": "b6d41143",
   "metadata": {},
   "outputs": [],
   "source": [
    "student_means = dict(zip(colnames, column_means))\n",
    "student_means"
   ]
  },
  {
   "cell_type": "code",
   "execution_count": null,
   "id": "ff5e8649",
   "metadata": {},
   "outputs": [],
   "source": [
    "print('Student 4\\'s average:', round(student_means['Student 4'], 3))"
   ]
  },
  {
   "cell_type": "code",
   "execution_count": null,
   "id": "ba2bc27e-0baf-4da4-97d0-cb22708a474f",
   "metadata": {},
   "outputs": [],
   "source": [
    "# make a dataframe the mean hours of sleep for each student\n",
    "df_means = pd.DataFrame(zip(colnames, column_means))\n",
    "df_means.columns = ['Students', 'Sleep Hours']\n",
    "df_means"
   ]
  },
  {
   "cell_type": "code",
   "execution_count": null,
   "id": "fc814f3a-0a8f-42f9-a02f-1b84a8e271be",
   "metadata": {},
   "outputs": [],
   "source": [
    "# transpose the dataframe\n",
    "df_transposed = df3.transpose()\n",
    "df_transposed"
   ]
  },
  {
   "cell_type": "code",
   "execution_count": null,
   "id": "e7d9d62c-ea87-49c8-b902-a10b9a6e6957",
   "metadata": {},
   "outputs": [],
   "source": [
    "colnames = list(df_transposed)\n",
    "colnames"
   ]
  },
  {
   "cell_type": "code",
   "execution_count": null,
   "id": "255df225-3929-4549-be81-c2e2a2255d98",
   "metadata": {},
   "outputs": [],
   "source": [
    "newcols = ['Day ' + str(x+1) for x in colnames]\n",
    "newcols"
   ]
  },
  {
   "cell_type": "code",
   "execution_count": null,
   "id": "28298144-a4e6-4a91-b317-89e7d98875c7",
   "metadata": {},
   "outputs": [],
   "source": [
    "df_transposed.columns = newcols\n",
    "df_transposed"
   ]
  },
  {
   "cell_type": "code",
   "execution_count": null,
   "id": "d844db6f-2ecd-4cff-8a65-85199946be99",
   "metadata": {},
   "outputs": [],
   "source": [
    "df_transposed.index.name = 'student'\n",
    "df_transposed"
   ]
  },
  {
   "cell_type": "code",
   "execution_count": null,
   "id": "cc0f02fe-a6e5-417a-99c7-6fb0e03681ce",
   "metadata": {},
   "outputs": [],
   "source": [
    "df_transposed.reset_index(inplace = True)\n",
    "df_transposed"
   ]
  },
  {
   "cell_type": "code",
   "execution_count": null,
   "id": "09c3830e-1b7a-48c0-b253-1300f9a6d722",
   "metadata": {},
   "outputs": [],
   "source": [
    "df_long = pd.melt(df_transposed, id_vars = 'student')\n",
    "df_long"
   ]
  },
  {
   "cell_type": "code",
   "execution_count": null,
   "id": "2f8fe670-9c0c-462e-b55c-0f249f213d82",
   "metadata": {},
   "outputs": [],
   "source": []
  },
  {
   "cell_type": "code",
   "execution_count": null,
   "id": "24a4efbb",
   "metadata": {},
   "outputs": [],
   "source": []
  }
 ],
 "metadata": {
  "kernelspec": {
   "display_name": "Python 3 ",
   "language": "python",
   "name": "python3"
  },
  "language_info": {
   "codemirror_mode": {
    "name": "ipython",
    "version": 3
   },
   "file_extension": ".py",
   "mimetype": "text/x-python",
   "name": "python",
   "nbconvert_exporter": "python",
   "pygments_lexer": "ipython3",
   "version": "3.10.14"
  }
 },
 "nbformat": 4,
 "nbformat_minor": 5
}
